{
 "cells": [
  {
   "cell_type": "code",
   "execution_count": null,
   "metadata": {},
   "outputs": [],
   "source": [
    "import numpy as np\n",
    "import pandas as pd\n",
    "import matplotlib.pyplot as plt\n",
    "import seaborn as sns\n",
    "\n",
    "from scipy.integrate import odeint\n",
    "from TIMEcore2 import modelTIME"
   ]
  },
  {
   "cell_type": "code",
   "execution_count": null,
   "metadata": {},
   "outputs": [],
   "source": [
    "state_0 = [80000, 17000, 100, 200] # S, L, I, N\n",
    "\n",
    "params = {\n",
    "  'omega' : 0.01594,\n",
    "  'mu'    : 0.015,\n",
    "  'muI'   : 0.20,\n",
    "  'muN'   : 0.20,\n",
    "  'beta'  : 14.75, \n",
    "  'c'     : 0.25,  # rel_inf\n",
    "  'alpha' : 0.031,\n",
    "  'x'     : 0.65,  # p\n",
    "  'nu'    : 0.002, # v\n",
    "  'sigma' : 0.4,\n",
    "  'gamma' : 0,     # 1.4,  #kneg i.e. treatment rate  \n",
    "  'eta'   : 0.83,  # l_s\n",
    "  'tau'   : 0.76,  # tneg \n",
    "  'r'     : 0.25,\n",
    "  'Sei'   : 0.82,  # 2015\n",
    "  'Sen'   : 0.57,  # 2015\n",
    "  'theta' : 0.02,\n",
    "  'd'     : 0.8    # rel_d\n",
    "}\n",
    "\n",
    "times = np.linspace(0, 100, 1001)"
   ]
  },
  {
   "cell_type": "code",
   "execution_count": null,
   "metadata": {},
   "outputs": [],
   "source": [
    "\n",
    "out = odeint(modelTIME(**params), state_0, times)\n",
    "df = pd.DataFrame(np.insert(out, 0, times, axis=1), columns=['time', 'S', 'L', 'I', 'N']).set_index('time')\n",
    "df"
   ]
  },
  {
   "cell_type": "code",
   "execution_count": null,
   "metadata": {},
   "outputs": [],
   "source": [
    "df['pop']=df[['S','L','I','N']].sum(axis=1)\n",
    "df"
   ]
  },
  {
   "cell_type": "code",
   "execution_count": null,
   "metadata": {},
   "outputs": [],
   "source": [
    "state = df.iloc[-1][['S','L','I','N']].to_list() # use final state\n",
    "params['gamma'] = 1.4\n",
    "times = np.linspace(0,30,301)"
   ]
  },
  {
   "cell_type": "code",
   "execution_count": null,
   "metadata": {},
   "outputs": [],
   "source": [
    "out = odeint(modelTIME(**params), state, times)\n",
    "df_treat = pd.DataFrame(np.insert(out, 0, times, axis=1), columns=['time', 'S', 'L', 'I', 'N']).set_index('time')\n",
    "df_treat"
   ]
  },
  {
   "cell_type": "code",
   "execution_count": null,
   "metadata": {},
   "outputs": [],
   "source": [
    "df_treat['pop']=df[['S','L','I','N']].sum(axis=1)\n",
    "df_treat\n"
   ]
  },
  {
   "cell_type": "code",
   "execution_count": null,
   "metadata": {},
   "outputs": [],
   "source": [
    "sns.set()\n",
    "\n",
    "containers = ['S', 'L', 'I', 'N']\n",
    "\n",
    "fig, axs = plt.subplots(1, 2, sharey=True)\n",
    "\n",
    "df[containers].plot(ax=axs[0], title='w/o treatment')\n",
    "df_treat[containers].plot(ax=axs[1], title='treatment: $\\\\gamma: 1.4$')"
   ]
  },
  {
   "cell_type": "code",
   "execution_count": null,
   "metadata": {},
   "outputs": [],
   "source": [
    "fig, axs = plt.subplots(1, 2, sharey=True)\n",
    "\n",
    "df[['I', 'N']].plot(ax=axs[0], title='w/o treatment')\n",
    "df_treat[['I', 'N']].plot(ax=axs[1], title='treatment: $\\\\gamma: 1.4$')"
   ]
  }
 ],
 "metadata": {
  "kernelspec": {
   "display_name": "dsai",
   "language": "python",
   "name": "python3"
  },
  "language_info": {
   "codemirror_mode": {
    "name": "ipython",
    "version": 3
   },
   "file_extension": ".py",
   "mimetype": "text/x-python",
   "name": "python",
   "nbconvert_exporter": "python",
   "pygments_lexer": "ipython3",
   "version": "3.10.8"
  },
  "orig_nbformat": 4
 },
 "nbformat": 4,
 "nbformat_minor": 2
}
